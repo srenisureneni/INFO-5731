{
  "nbformat": 4,
  "nbformat_minor": 0,
  "metadata": {
    "colab": {
      "name": "Copy of INFO5731_Assignment_One.ipynb",
      "provenance": [],
      "collapsed_sections": [],
      "toc_visible": true
    },
    "kernelspec": {
      "name": "python3",
      "display_name": "Python 3"
    }
  },
  "cells": [
    {
      "cell_type": "markdown",
      "metadata": {
        "id": "Ryk8D1Q4Wsrp",
        "colab_type": "text"
      },
      "source": [
        "# **INFO5731 Assignment One**"
      ]
    },
    {
      "cell_type": "markdown",
      "metadata": {
        "id": "90_NR8c5XGWc",
        "colab_type": "text"
      },
      "source": [
        "# Question 1\n",
        "\n",
        "(20 points). Write a Python program to generate 12 random numbers between 1 and 100. Sort the list of numbers in ascending order and print it out. Sort the list of numbers in descending order and print it out. Calculate the average for the group and print it out."
      ]
    },
    {
      "cell_type": "code",
      "metadata": {
        "id": "5QX6bJjGWXY9",
        "colab_type": "code",
        "colab": {
          "base_uri": "https://localhost:8080/",
          "height": 68
        },
        "outputId": "94bce110-ef4a-4cf2-eb0f-a4f77184175c"
      },
      "source": [
        "import random\n",
        "ascend=[]\n",
        "desend=[]\n",
        "avg=0\n",
        "for x in range(0,12):\n",
        "    a = random.randint(1,101)\n",
        "    avg+=b\n",
        "    ascend.append(a)\n",
        "    desend.append(a)\n",
        "    ascend.sort()\n",
        "    desend.sort(reverse=True)\n",
        "    avg = avg/12 \n",
        "print(\"Ascending order:{}\".format(ascend))\n",
        "print(\"Decending order:{}\".format(desend))\n",
        "print(\"Average for the group:{}\".format(avg)) \n",
        "\n"
      ],
      "execution_count": null,
      "outputs": [
        {
          "output_type": "stream",
          "text": [
            "Ascending order:[12, 19, 20, 22, 39, 40, 67, 70, 72, 93, 95, 100]\n",
            "Decending order:[100, 95, 93, 72, 70, 67, 40, 39, 22, 20, 19, 12]\n",
            "Average for the group:2.3636363636360986\n"
          ],
          "name": "stdout"
        }
      ]
    },
    {
      "cell_type": "markdown",
      "metadata": {
        "id": "1F_PZdH9Sh49",
        "colab_type": "text"
      },
      "source": [
        "# Question 2\n",
        "(25 points). Write a program that will do the following string formatting tasks:\n",
        "\n",
        "(1) Ask the user to enter two sentences.\n",
        "\n",
        "(2) Make each sentence into a list. Each element in the list should correspond to a word in the sentence. For example, if the sentence is \"Alas! Am I alive? This is my first python program\", the program should print out ['Alas, '!', 'Am', 'I', 'alive, '?', 'This', 'is', 'my', 'first', 'python', 'program'].\n",
        "\n",
        "(3) Compare the two sentences. Print out a list of words that occur in both sentences.\n",
        "\n",
        "(4) Remove any punctuation from the sentence and print it back out. It should remove at least the following characters, but it can remove more: period(“.”), comma (“,”), semicolon (“;”), and colon (“:”)\n",
        "\n",
        "(5) Count the number of vowels in the sentences. Print out each vowel and the number of times it appears in the sentences, such as: a:2, e:1, i:0, etc"
      ]
    },
    {
      "cell_type": "code",
      "metadata": {
        "id": "Y0oOSlsOS0cq",
        "colab_type": "code",
        "colab": {
          "base_uri": "https://localhost:8080/",
          "height": 187
        },
        "outputId": "3b9e77c0-94f3-486d-9941-ffdd60d4875f"
      },
      "source": [
        "import string\n",
        "import re\n",
        "one = input(\"Enter first string: \")\n",
        "two = input(\"Enter second string: \")\n",
        "a = re.findall(r\"[\\w']+|[.,!?;:]\", one)\n",
        "b = re.findall(r\"[\\w']+|[.,!?;:]\", two)\n",
        "print(\"First list:\",a)\n",
        "print(\"Second list:\",b)\n",
        "print(\"\\nFollowing are common\")\n",
        "for word in a:\n",
        " for other in b:\n",
        "  if word.lower() == other.lower():\n",
        "   print(word)\n",
        "print(\"\\nFollowing are common without punctuation\")\n",
        "for word in a:\n",
        " for other in b:\n",
        "  if word.lower() == other.lower() and word not in string.punctuation:\n",
        "   print(word)\n",
        "vowels = {'a':0, 'e':0, 'i':0, 'o':0, 'u':0}\n",
        "for letter in one:\n",
        " if letter.lower() in vowels:\n",
        "  vowels[letter.lower()] += 1\n",
        "print(\"\\nVowel frequency in first string:\",vowels)\n"
      ],
      "execution_count": null,
      "outputs": [
        {
          "output_type": "stream",
          "text": [
            "Enter first string: Python is very easy language to learn!\n",
            "Enter second string: But, it takes a lot of practice.\n",
            "First list: ['Python', 'is', 'very', 'easy', 'language', 'to', 'learn', '!']\n",
            "Second list: ['But', ',', 'it', 'takes', 'a', 'lot', 'of', 'practice', '.']\n",
            "\n",
            "Following are common\n",
            "\n",
            "Following are common without punctuation\n",
            "\n",
            "Vowel frequency in first string: {'a': 4, 'e': 4, 'i': 1, 'o': 2, 'u': 1}\n"
          ],
          "name": "stdout"
        }
      ]
    },
    {
      "cell_type": "markdown",
      "metadata": {
        "id": "CmFoI4jDS9nx",
        "colab_type": "text"
      },
      "source": [
        "# Question 3 \n",
        "\n",
        "(15 points). The formula that describes the volume V of a sphere with radius r is the following:\n",
        "\n",
        "$ V=\\frac{4}{3}\\ast\\ \\pi\\ast\\ r^3 $\n",
        "\n",
        "Write a program to calculate the value of V when r is in the range of 1–10. Output the result in the following format:\n",
        "\n",
        "\tr\tV\n",
        "\t1\t…\n",
        "\t2\t…\n",
        "\t3\t…\n"
      ]
    },
    {
      "cell_type": "code",
      "metadata": {
        "id": "pEyqeioAT95b",
        "colab_type": "code",
        "colab": {
          "base_uri": "https://localhost:8080/",
          "height": 204
        },
        "outputId": "738acbea-07b8-451e-96a1-997bde8509ee"
      },
      "source": [
        "print(\"r\",\"v\")\n",
        "for r in range(1,11):\n",
        "  v=4/3*3.14*(r*r*r) \n",
        "  print(r,v)\n",
        "\n"
      ],
      "execution_count": null,
      "outputs": [
        {
          "output_type": "stream",
          "text": [
            "r v\n",
            "1 4.1866666666666665\n",
            "2 33.49333333333333\n",
            "3 113.03999999999999\n",
            "4 267.94666666666666\n",
            "5 523.3333333333334\n",
            "6 904.3199999999999\n",
            "7 1436.0266666666666\n",
            "8 2143.5733333333333\n",
            "9 3052.08\n",
            "10 4186.666666666667\n"
          ],
          "name": "stdout"
        }
      ]
    },
    {
      "cell_type": "code",
      "metadata": {
        "id": "pMCr3l8tnu0j",
        "colab_type": "code",
        "colab": {}
      },
      "source": [
        ""
      ],
      "execution_count": null,
      "outputs": []
    },
    {
      "cell_type": "markdown",
      "metadata": {
        "id": "z3tBE7E-Xn5X",
        "colab_type": "text"
      },
      "source": [
        "# Question 4\n",
        "\n",
        "(40 points). In the field of Data Science, data is often formatted as a comma-delimited (CSV) file, where each line in a file corresponds to a field's value. Refer to Chapter 9 (p. 106) for more information on comma-delimited files. To answer this question, you will need to download the file [Assignment1_denton_housing.csv](https://github.com/unt-iialab/INFO5731_FALL2020/blob/master/Assignments/Assignment1_denton_housing.csv) included with this assignment. The [file Assignment1_denton_housing.csv](https://github.com/unt-iialab/INFO5731_FALL2020/blob/master/Assignments/Assignment1_denton_housing.csv) contains statistics about housing in the city of Denton from 2008 to 2014. Write a program to implement the following questions.\n",
        "\n",
        "(1) (10 pts) Calculate the difference in the number of Occupied Housing Units from year to year and print it. The difference must be calculated for the consecutive years such as 2008-2009, 2009-2010 etc. Finally, print the values in the ascending order.\n",
        "\n",
        "(2) (10 pts) For all the years, calculate the percentage of housing units which are vacant an occupied. Print the results in the following format:\n",
        "\n",
        "Year Vacant Housing Units Occupied Housing Units\n",
        "\n",
        "    2008  30%   70%                          \n",
        "\t2009 ----- -----\n",
        "\t2010 ----- -----\n",
        "    2011 ----- -----\n",
        "\t2012 ----- -----\n",
        "    2013 ----- -----\n",
        "\t2014 ----- -----\n",
        "  \n",
        "  \n",
        "\n",
        "(3) (10 pts) Calculate and print the valued and years in which the highest number of housing units were vacant and occupied. Print the results in the following format:  \n",
        "\n",
        "                              Year\tValue\n",
        "\tVacant Housing Units\t  -----   -----\n",
        "\tOccupied Housing Units\t-----   -----\n",
        "\n",
        "(4) (10 pts) Calculate the harmonic mean of the total housing units and print it out. You can find the information about harmonic mean here: https://ncalculators.com/statistics/harmonic-mean-calculator.htm"
      ]
    },
    {
      "cell_type": "code",
      "metadata": {
        "id": "JrFKMntp-xGe",
        "colab_type": "code",
        "colab": {
          "base_uri": "https://localhost:8080/",
          "height": 513
        },
        "outputId": "ee2b6d41-4b0a-448b-afb2-7fb9db4f368e"
      },
      "source": [
        "import pandas as pd\n",
        "import operator\n",
        "\n",
        "df = pd.read_csv(\"Assignment1_denton_housing.csv\")\n",
        "dicti = {}\n",
        "for ind in df.index:\n",
        "  if df['title_field'][ind] == 'Occupied Housing Units':\n",
        "    dicti[int(df['year'][ind])] = df['value'][ind]\n",
        "prev = -1\n",
        "prevYear = -1\n",
        "mapp = {}\n",
        "for item in sorted(dicti.items()) :\n",
        "  if prev == -1:\n",
        "    prev = item[1]\n",
        "    prevYear = item[0]\n",
        "  else:\n",
        "    #print(\"Year (\",prevYear,\"-\", item[0], \") =\", item[1] - prev)\n",
        "    mapp[\"Year (\",prevYear,\"-\", item[0], \") =\"] = abs(item[1] - prev)\n",
        "    prev = item[1]\n",
        "    prevYear = item[0]\n",
        "\n",
        "sorted_x = sorted(mapp.items(), key=operator.itemgetter(1))\n",
        "\n",
        "print(\"\\n\\nOccupied Housing Units from year to year \", sorted_x)\n",
        "\n",
        "diction = {}\n",
        "for ind in df.index:\n",
        "  keys = str(df['year'][ind])\n",
        "  if df['title_field'][ind] == 'Occupied Housing Units':\n",
        "    diction[keys+\"o\"] = df['value'][ind]\n",
        "  if df['title_field'][ind] == 'Vacant Housing Units':\n",
        "    diction[keys+\"v\"] = df['value'][ind]\n",
        "  if df['title_field'][ind] == 'Total Housing Units':\n",
        "    diction[keys] = int(df['value'][ind])\n",
        "    \n",
        "print(\"\\n\\n         Vacant Housing Units      Occupied Housing Units\")\n",
        "print(\"2008    \", (diction[\"2008v\"] / diction[\"2008\"]) * 100, \"%\", (diction[\"2008o\"] / diction[\"2008\"]) * 100, \"%\")\n",
        "print(\"2009    \", diction[\"2009v\"] / diction[\"2009\"] * 100, \"%\", diction[\"2009o\"] / diction[\"2009\"] * 100, \"%\")\n",
        "print(\"2010    \", diction[\"2010v\"] / diction[\"2010\"] * 100, \"%\", diction[\"2010o\"] / diction[\"2010\"] * 100, \"%\")\n",
        "print(\"2011    \", diction[\"2011v\"] / diction[\"2011\"] * 100, \"%\", diction[\"2011o\"] / diction[\"2011\"] * 100, \"%\")\n",
        "print(\"2012    \", diction[\"2012v\"] / diction[\"2012\"] * 100, \"%\", diction[\"2012o\"] / diction[\"2012\"] * 100, \"%\")\n",
        "print(\"2013    \", diction[\"2013v\"] / diction[\"2013\"] * 100, \"%\", diction[\"2013o\"] / diction[\"2013\"] * 100, \"%\")\n",
        "print(\"2014    \", diction[\"2014v\"] / diction[\"2014\"] * 100, \"%\", diction[\"2014o\"] / diction[\"2014\"] * 100, \"%\")\n",
        "#print(diction)\n",
        "\n",
        "oc = 0\n",
        "ocYear = 0\n",
        "vc = 0\n",
        "vcYear = 0\n",
        "for ind in df.index:\n",
        "  if df['title_field'][ind] == 'Occupied Housing Units':\n",
        "    if oc <int(df['value'][ind]):\n",
        "      oc = df['value'][ind]\n",
        "      ocYear = df['year'][ind]\n",
        "  if df['title_field'][ind] == 'Vacant Housing Units':\n",
        "    if vc < int(df['value'][ind]):\n",
        "      vc = df['value'][ind]\n",
        "      vcYear = df['year'][ind]\n",
        "print(\"\\n\\n                         Year   Value\")\n",
        "print(\"Vacant Housing Units     \", vcYear, \" \", vc)\n",
        "print(\"Occupied Housing Units   \", ocYear, \" \", oc)\n",
        "\n",
        "sum = 0\n",
        "n = 7\n",
        "for ind in df.index:\n",
        "  if df['title_field'][ind] == 'Total Housing Units':\n",
        "    sum = sum + (1/int(df['value'][ind]))\n",
        "    print(\"sum=\",sum)\n",
        "\n",
        "print(\"\\n\\nHarmonic mean of the total housing units \", n/sum)\n",
        "\n",
        "\n"
      ],
      "execution_count": null,
      "outputs": [
        {
          "output_type": "stream",
          "text": [
            "\n",
            "\n",
            "Occupied Housing Units from year to year  [(('Year (', 2010, '-', 2011, ') ='), 303), (('Year (', 2008, '-', 2009, ') ='), 795), (('Year (', 2011, '-', 2012, ') ='), 1404), (('Year (', 2012, '-', 2013, ') ='), 1565), (('Year (', 2013, '-', 2014, ') ='), 2622), (('Year (', 2009, '-', 2010, ') ='), 5091)]\n",
            "\n",
            "\n",
            "         Vacant Housing Units      Occupied Housing Units\n",
            "2008     10.88265281351653 % 89.11734718648347 %\n",
            "2009     9.07111572444872 % 90.92888427555128 %\n",
            "2010     8.142556337081672 % 91.85744366291833 %\n",
            "2011     9.379522229890688 % 90.6204777701093 %\n",
            "2012     6.677600230491346 % 93.32239976950866 %\n",
            "2013     8.801787504176412 % 91.19821249582358 %\n",
            "2014     5.730110570363885 % 94.26988942963611 %\n",
            "\n",
            "\n",
            "                         Year   Value\n",
            "Vacant Housing Units      2008   4483\n",
            "Occupied Housing Units    2014   46295\n",
            "sum= 2.036286627705716e-05\n",
            "sum= 4.124492441270701e-05\n",
            "sum= 6.340755378705598e-05\n",
            "sum= 8.567083940274714e-05\n",
            "sum= 0.00010807126949100483\n",
            "sum= 0.0001333883661263627\n",
            "sum= 0.00015766374603605829\n",
            "\n",
            "\n",
            "Harmonic mean of the total housing units  44398.28543969185\n"
          ],
          "name": "stdout"
        }
      ]
    },
    {
      "cell_type": "code",
      "metadata": {
        "id": "lqGYuHBhcsRH",
        "colab_type": "code",
        "colab": {
          "base_uri": "https://localhost:8080/",
          "height": 34
        },
        "outputId": "3e736689-0f46-4f0b-f281-3422e8685ee7"
      },
      "source": [
        "# Your code here\n",
        "import glob\n",
        "import re\n",
        "import csv\n",
        "\n",
        "filepath='Assignment1_denton_housing.csv'\n",
        "with open(filepath) as fp:\n",
        "   line = fp.readline()\n",
        "   line = fp.readline()\n",
        "   cnt = 1\n",
        "   dict = {}\n",
        "   while line:\n",
        "      line = fp.readline()\n",
        "      if \",\" in line:\n",
        "        lineArr = line.split(',')\n",
        "        if lineArr[1]==\"Occupied Housing Units\":\n",
        "          dict[lineArr[0]] = lineArr[2].rstrip()\n",
        "ans = []\n",
        "flag = 0\n",
        "temp = 0\n",
        "temp1 = 0\n",
        "for key in dict:\n",
        "  if flag == 0:\n",
        "    temp = dict[key]\n",
        "    #print(str(temp1) + \"-\" + dict[key])\n",
        "    temp1 = abs(int(temp1)-int(dict[key]))\n",
        "    ans.append(temp1)\n",
        "    flag = 1\n",
        "  else:\n",
        "    flag = 0\n",
        "    temp1 = dict[key]\n",
        "    #print(str(temp) + \"-\" + dict[key])\n",
        "    temp = abs(int(temp)-int(dict[key]))\n",
        "    ans.append(temp)\n",
        "ans.pop(0)\n",
        "print(sorted(ans))"
      ],
      "execution_count": null,
      "outputs": [
        {
          "output_type": "stream",
          "text": [
            "[303, 795, 1404, 1565, 2622, 5091]\n"
          ],
          "name": "stdout"
        }
      ]
    }
  ]
}