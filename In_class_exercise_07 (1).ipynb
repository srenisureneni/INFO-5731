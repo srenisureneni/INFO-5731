{
  "nbformat": 4,
  "nbformat_minor": 0,
  "metadata": {
    "kernelspec": {
      "display_name": "Python 3",
      "language": "python",
      "name": "python3"
    },
    "language_info": {
      "codemirror_mode": {
        "name": "ipython",
        "version": 3
      },
      "file_extension": ".py",
      "mimetype": "text/x-python",
      "name": "python",
      "nbconvert_exporter": "python",
      "pygments_lexer": "ipython3",
      "version": "3.7.4"
    },
    "colab": {
      "name": "In_class_exercise_07.ipynb",
      "provenance": []
    }
  },
  "cells": [
    {
      "cell_type": "markdown",
      "metadata": {
        "id": "hewTQs0MxcCg"
      },
      "source": [
        "# **The seventh in-class-exercise (20 points in total, 10/21/2020)**"
      ]
    },
    {
      "cell_type": "markdown",
      "metadata": {
        "id": "HaNMEw6PxcCk"
      },
      "source": [
        "Question description: In the last in-class-exercise (exercise-06), you collected the titles of 100 articles about data science, natural language processing, and machine learning. The 100 article titles will be used as the text corpus of this exercise. Perform the following tasks:"
      ]
    },
    {
      "cell_type": "markdown",
      "metadata": {
        "id": "sK4ECRIBxcCu"
      },
      "source": [
        "## (1) (8 points) Generate K topics by using LDA, the number of topics K should be decided by the coherence score, then summarize what are the topics. You may refer the code here: \n",
        "\n",
        "https://www.machinelearningplus.com/nlp/topic-modeling-gensim-python/"
      ]
    },
    {
      "cell_type": "code",
      "metadata": {
        "id": "FzenvJ59xcCy",
        "outputId": "ed866ebc-abad-430f-9c0d-de5fdeaae8c0",
        "colab": {
          "base_uri": "https://localhost:8080/",
          "height": 54
        }
      },
      "source": [
        "# Write your code here\n",
        "import pandas as pd\n",
        "import requests\n",
        "from bs4 import BeautifulSoup\n",
        "def insert_into_array(values,refer_array):\n",
        "  for i in values:\n",
        "    refer_array.append(i.text)\n",
        "titles=[]\n",
        "for i in range(0,100,10):\n",
        "  URL=\"http://citeseerx.ist.psu.edu/search?q=data+science&t=doc&sort=rlv&start=\"+str(i)\n",
        "  page=requests.get(URL,headers={'User-Agent':'Chrome/85.0.4183.121'})\n",
        "  soup = BeautifulSoup(page.content, 'html.parser')\n",
        "  insert_into_array(soup.find_all('a', class_='remove doc_details'),titles)\n",
        "print(titles)\n",
        "df = pd.DataFrame (titles,columns=['titles'])\n"
      ],
      "execution_count": 1,
      "outputs": [
        {
          "output_type": "stream",
          "text": [
            "['\\nData Streams: Algorithms and Applications\\n                  ', '\\n                  Bayesian Data Analysis\\n                  ', '\\n                  Voronoi diagrams -- a survey of a fundamental geometric data structure\\n                  ', '\\n                  From Data Mining to Knowledge Discovery in Databases.\\n                  ', '\\n                  Survey of clustering algorithms\\n                  ', '\\n                  Thresholding of statistical maps in functional neuroimaging using the false discovery rate.\\n                  ', '\\n                  Maintaining knowledge about temporal intervals\\n                  ', '\\n                  Status quo bias in decision making\\n                  ', '\\n                  Rough Sets.\\n                  ', '\\n                  Modeling TCP Throughput: A Simple Model and its Empirical Validation\\n                  ', '\\n                  Compressive sampling\\n                  ', '\\n                  Search and replication in unstructured peer-to-peer networks\\n                  ', '\\n                  Dynamic Bayesian Networks: Representation, Inference and Learning\\n                  ', '\\n                  Motivational and self-regulated learning components of classroom academic performance\\n                  ', '\\n                  Probabilistic Inference Using Markov Chain Monte Carlo Methods\\n                  ', '\\n                  A theory of social comparison processes,”\\n                  ', '\\n                  Group formation in large social networks: membership, growth, and evolution\\n                  ', '\\n                  Illusion and well-being: A social psychological perspective on mental health.\\n                  ', '\\n                  Analyzing Incomplete Political Science Data: An Alternative Algorithm for Multiple Imputation\\n                  ', '\\n                  Natural Selection\\n                  ', '\\n                  Foreign Direct Investment and Relative Wages: Evidence from Mexico’s Maquiladoras\\n                  ', '\\n                  Indexing and Querying XML Data for Regular Path Expressions\\n                  ', '\\n                  A survey of data provenance in e-science\\n', '\\n                  A Survey of Affect Recognition Methods: Audio, Visual, and Spontaneous Expressions\\n                  ', '\\n                  The earth is round (p < .05\\n                  ', '\\n                  Citizens as sensors: the world of volunteered geography.”\\n                  ', '\\n                   Mechanism Design for Data Science\\n', '\\n                  Foundations of data science\\n', '\\n                  Foundations of data science\\n', '\\nData Sciences UK Ltd.\\n                  ', '\\n                  EMI Music Data Science\\n', '\\nData Sciences Laboratory\\n                  ', '\\n                  INTRODUCTION TO DATA SCIENCE\\n', '\\n                  Database Mining: A Performance Perspective\\n                  ', '\\n                  Functional Data Structures\\n                  ', '\\n                  Towards Cognitive Automation of Data Science\\n', '\\n                  My Solution to the EMC Data Science Global\\n                  ', '\\n                  MOOCdb: Developing Data Standards for MOOC Data Science\\n', '\\n                  A survey of outlier detection methodologies\\n                  ', '\\n                  Gender, Agricultural Productivity and the Theory of the Household\\n                  ', '\\n                  SPARSKIT: a basic tool kit for sparse matrix computations - Version 2\\n                  ', '\\n                  On Clustering Validation Techniques\\n                  ', '\\n                  Chief. Data Sciences Division1\\n                  ', '\\n                  Industrial development in cities\\n                  ', '\\n                  Parallel Computing for Data Science with Examples in R and Beyond\\n                  ', '\\nData Science in the Statistics Curricula: Preparing Students to \"Think with Data\"\\n                  ', '\\n                  Guest Editorial EDITOR’S COMMENTS The Business of Business Data Science in IS Journals\\n                  ', '\\n                  Reconstructing past climate from noisy data. Science 306: 679–682\\n                  ', '\\n                  A Critique of Software Defect Prediction Models\\n                  ', '\\n                  A new approach to abstract syntax with variable binding\\n                  ', '\\n                  Stochastic global optimization\\n                  ', '\\n                  Fidelity and yield in a volcano monitoring sensor network\\n                  ', '\\n                  The Netflix Prize\\n                  ', '\\n                  A rational analysis of the selection task as optimal data selection\\n                  ', '\\n                  A Tutorial on (Co)Algebras and (Co)Induction\\n                  ', '\\n                  Statistical Analysis of a Telephone Call Center: A Queueing Science Perspective\\n                  ', '\\n                  1 Data Science and Mass Media: Seeking a Hermeneutic Ethics of Information\\n                  ', '\\n                  Editorial—Big Data, Data Science, and Analytics: The Opportunity and Challenge for Is Research\\n                  ', '\\n                  Deep Feature Synthesis: Towards Automating Data Science Endeavors\\n                  ', '\\nData Science and Distributed Intelligence: Recent Developments and Future Insights\\n                  ', '\\nDATA SCIENCE AND ITS RELATIONSHIP TO BIG DATA AND DATA-DRIVEN DECISION MAKING ORIGINAL ARTICLE\\n                  ', '\\n                  •\\u202f Organic data science 4. Closing thoughts\\n                  ', '\\n                  e-Infrastructure Requirements for Big Data Science\\n', '\\n                  The Electronic Universe: Network Delivery of Data, Science and Discovery\\n                  ', '\\n                  Editorial: special issue on learning from imbalanced data sets\\n                  ', '\\n                  ICML 2014 AutoML Workshop Cognitive Automation of Data Science\\n', '\\n                  Matrix Completion with Noise\\n                  ', '\\n                  Qualitative Case Study Methodology: Study Design and Implementation for Novice Researchers\\n                  ', '\\n                  The Investment behavior and performance of various investor\\n                  ', '\\n                  E-commerce: The role of familiarity and trust\\n                  ', '\\n                  A Software Interface for Supporting the Application of Data Science to Optimisation\\n                  ', '\\n                  Technology Probes: Inspiring Design for and with Families\\n                  ', '\\n                  TEACHING PRECURSORS TO DATA SCIENCE IN INTRODUCTORY AND SECOND COURSES IN STATISTICS\\n                  ', '\\nData Science of the People, for the People, by the People: A Viewpoint on an Emerging Dichotomy\\n                  ', '\\nData Science Study Protocols for Investigating Lifetime and Degradation of PV Technology Systems\\n                  ', '\\n                  Maps of random walks on complex networks reveal community structure\\n                  ', '\\n                  A Macroscope in the Redwoods\\n                  ', '\\n                  Thrust Area in Data Science-Big Data and Data Analytics\\n                  ', '\\n                  With their book XML and Web Technologies for Data Sciences with R, Deborah Nolan and\\n                  ', '\\nData Management and Transfer in High-Performance Computational Grid Environments\\n                  ', '\\n                  A new approach to decoding life: systems biology\\n                  ', '\\n                  Geometry for the selfish herd.\\n                  ', '\\n                  PERSPECTIVE Let&aposs Make Gender Diversity in Data Science a Priority Right from the Start\\n                  ', '\\nDataHub: Collaborative Data Science & Dataset Version Management at Scale\\n                  ', '\\n                  To be published in Data Science Journal, 2005 Digital Object Identifiers for scientific data\\n', '\\n                  OkCupid Data for Introductory Statistics and Data Science Courses\\n                  ', '\\n                  The Role of Income Aspirations in Individual Happiness\\n                  ', '\\n                  Predicting tie strength with social media\\n                  ', '\\n                  Intel “Big Data ” Science and Technology Center Vision and Execution Plan\\n                  ', '\\n                  Teaching Parallelism Without Programming: A Data Science Curriculum for Non-CS Students\\n                  ', '\\n                   How Computational Statistics Became the Backbone of Modern Data Science\\n', '\\n                  Efficient Search for Approximate Nearest Neighbor in High Dimensional Spaces\\n                  ', '\\n                  Model selection in ecology and evolution.\\n                  ', '\\n                  Local Ground:\\xa0 A\\xa0Toolkit\\xa0Supporting\\xa0Metarepresentational Competence in\\xa0Data\\xa0Science\\n', '\\n                  Visual Exploration of Formal Requirements for Data Science Demand Analysis\\n                  ', '\\n                  Earth Data, Science Writing, and Peer Review page 1 Earth Data, Science Writing, and Peer Review in a Large General Education Oceanography Class\\n                  ', '\\n                  An Online Algorithm for Segmenting Time Series\\n                  ', '\\n                  OUTLINE AND EXERCISES FOR A NOVEL INTRODUCTORY COURSE IN DATA SCIENCE AND VISUALIZATION\\n                  ', '\\n                   Computational Data Sciences for Actionable Insights on Climate Extremes and Uncertainty\\n                  ', '\\n                  The New Computational and Data Sciences Undergraduate Program at George Mason University 1 Data-Intensive Science: A New Vision for Science Education\\n                  ']\n"
          ],
          "name": "stdout"
        }
      ]
    },
    {
      "cell_type": "code",
      "metadata": {
        "id": "Li-aEciyx180",
        "outputId": "b455c611-8dc8-43ed-c65a-6d9016237892",
        "colab": {
          "base_uri": "https://localhost:8080/",
          "height": 544
        }
      },
      "source": [
        "pip install pyLDAvis"
      ],
      "execution_count": 2,
      "outputs": [
        {
          "output_type": "stream",
          "text": [
            "Collecting pyLDAvis\n",
            "\u001b[?25l  Downloading https://files.pythonhosted.org/packages/a5/3a/af82e070a8a96e13217c8f362f9a73e82d61ac8fff3a2561946a97f96266/pyLDAvis-2.1.2.tar.gz (1.6MB)\n",
            "\u001b[K     |████████████████████████████████| 1.6MB 1.7MB/s \n",
            "\u001b[?25hRequirement already satisfied: wheel>=0.23.0 in /usr/local/lib/python3.6/dist-packages (from pyLDAvis) (0.35.1)\n",
            "Requirement already satisfied: numpy>=1.9.2 in /usr/local/lib/python3.6/dist-packages (from pyLDAvis) (1.18.5)\n",
            "Requirement already satisfied: scipy>=0.18.0 in /usr/local/lib/python3.6/dist-packages (from pyLDAvis) (1.4.1)\n",
            "Requirement already satisfied: pandas>=0.17.0 in /usr/local/lib/python3.6/dist-packages (from pyLDAvis) (1.1.2)\n",
            "Requirement already satisfied: joblib>=0.8.4 in /usr/local/lib/python3.6/dist-packages (from pyLDAvis) (0.16.0)\n",
            "Requirement already satisfied: jinja2>=2.7.2 in /usr/local/lib/python3.6/dist-packages (from pyLDAvis) (2.11.2)\n",
            "Requirement already satisfied: numexpr in /usr/local/lib/python3.6/dist-packages (from pyLDAvis) (2.7.1)\n",
            "Requirement already satisfied: pytest in /usr/local/lib/python3.6/dist-packages (from pyLDAvis) (3.6.4)\n",
            "Requirement already satisfied: future in /usr/local/lib/python3.6/dist-packages (from pyLDAvis) (0.16.0)\n",
            "Collecting funcy\n",
            "  Downloading https://files.pythonhosted.org/packages/66/89/479de0afbbfb98d1c4b887936808764627300208bb771fcd823403645a36/funcy-1.15-py2.py3-none-any.whl\n",
            "Requirement already satisfied: python-dateutil>=2.7.3 in /usr/local/lib/python3.6/dist-packages (from pandas>=0.17.0->pyLDAvis) (2.8.1)\n",
            "Requirement already satisfied: pytz>=2017.2 in /usr/local/lib/python3.6/dist-packages (from pandas>=0.17.0->pyLDAvis) (2018.9)\n",
            "Requirement already satisfied: MarkupSafe>=0.23 in /usr/local/lib/python3.6/dist-packages (from jinja2>=2.7.2->pyLDAvis) (1.1.1)\n",
            "Requirement already satisfied: py>=1.5.0 in /usr/local/lib/python3.6/dist-packages (from pytest->pyLDAvis) (1.9.0)\n",
            "Requirement already satisfied: atomicwrites>=1.0 in /usr/local/lib/python3.6/dist-packages (from pytest->pyLDAvis) (1.4.0)\n",
            "Requirement already satisfied: more-itertools>=4.0.0 in /usr/local/lib/python3.6/dist-packages (from pytest->pyLDAvis) (8.5.0)\n",
            "Requirement already satisfied: six>=1.10.0 in /usr/local/lib/python3.6/dist-packages (from pytest->pyLDAvis) (1.15.0)\n",
            "Requirement already satisfied: setuptools in /usr/local/lib/python3.6/dist-packages (from pytest->pyLDAvis) (50.3.0)\n",
            "Requirement already satisfied: pluggy<0.8,>=0.5 in /usr/local/lib/python3.6/dist-packages (from pytest->pyLDAvis) (0.7.1)\n",
            "Requirement already satisfied: attrs>=17.4.0 in /usr/local/lib/python3.6/dist-packages (from pytest->pyLDAvis) (20.2.0)\n",
            "Building wheels for collected packages: pyLDAvis\n",
            "  Building wheel for pyLDAvis (setup.py) ... \u001b[?25l\u001b[?25hdone\n",
            "  Created wheel for pyLDAvis: filename=pyLDAvis-2.1.2-py2.py3-none-any.whl size=97712 sha256=b81f008239ebea93f3ec56cb91c1435afcc63d0c02897c4b8217df2d0bac232e\n",
            "  Stored in directory: /root/.cache/pip/wheels/98/71/24/513a99e58bb6b8465bae4d2d5e9dba8f0bef8179e3051ac414\n",
            "Successfully built pyLDAvis\n",
            "Installing collected packages: funcy, pyLDAvis\n",
            "Successfully installed funcy-1.15 pyLDAvis-2.1.2\n"
          ],
          "name": "stdout"
        }
      ]
    },
    {
      "cell_type": "code",
      "metadata": {
        "id": "pDB1qwKwyFT0",
        "outputId": "bb1957d8-6f6c-45d5-e3ea-72834b5d7882",
        "colab": {
          "base_uri": "https://localhost:8080/",
          "height": 51
        }
      },
      "source": [
        "import nltk; nltk.download('stopwords')\n",
        "\n",
        "\n",
        "import re\n",
        "import numpy as np\n",
        "import pandas as pd\n",
        "from pprint import pprint\n",
        "import gensim\n",
        "import gensim.corpora as corpora\n",
        "from gensim.utils import simple_preprocess\n",
        "from gensim.models import CoherenceModel\n",
        "import spacy\n",
        "import pyLDAvis\n",
        "import pyLDAvis.gensim  \n",
        "import matplotlib.pyplot as plt\n",
        "%matplotlib inline\n",
        "import logging\n",
        "logging.basicConfig(format='%(asctime)s : %(levelname)s : %(message)s', level=logging.ERROR)\n",
        "import warnings\n",
        "warnings.filterwarnings(\"ignore\",category=DeprecationWarning)"
      ],
      "execution_count": 3,
      "outputs": [
        {
          "output_type": "stream",
          "text": [
            "[nltk_data] Downloading package stopwords to /root/nltk_data...\n",
            "[nltk_data]   Unzipping corpora/stopwords.zip.\n"
          ],
          "name": "stdout"
        }
      ]
    },
    {
      "cell_type": "code",
      "metadata": {
        "id": "b-I0bVKMyId1",
        "outputId": "50aa6af7-6565-438a-f021-97110943f84c",
        "colab": {
          "base_uri": "https://localhost:8080/",
          "height": 1000
        }
      },
      "source": [
        "from nltk.corpus import stopwords\n",
        "stop_words = stopwords.words('english')\n",
        "stop_words.extend(['from', 'subject', 're', 'edu', 'use'])\n",
        "def sent_to_words(sentences):\n",
        "    for sentence in sentences:\n",
        "        yield(gensim.utils.simple_preprocess(str(sentence), deacc=True))  \n",
        "data_words = list(sent_to_words(titles))\n",
        "bigram = gensim.models.Phrases(data_words, min_count=5, threshold=100)\n",
        "bigram_mod = gensim.models.phrases.Phraser(bigram)\n",
        "\n",
        "print(data_words[:1])\n",
        "def remove_stopwords(texts):\n",
        "    return [[word for word in simple_preprocess(str(doc)) if word not in stop_words] for doc in texts]\n",
        "def lemmatization(texts, allowed_postags=['NOUN', 'ADJ', 'VERB', 'ADV']):\n",
        "    \"\"\"https://spacy.io/api/annotation\"\"\"\n",
        "    texts_out = []\n",
        "    for sent in texts:\n",
        "        doc = nlp(\" \".join(sent)) \n",
        "        texts_out.append([token.lemma_ for token in doc if token.pos_ in allowed_postags])\n",
        "    return texts_out\n",
        "def m_bigrams(texts):\n",
        "    return [bigram_mod[doc] for doc in texts]\n",
        "data_words_nostops = remove_stopwords(data_words)\n",
        "data_words_bigrams = m_bigrams(data_words_nostops)\n",
        "nlp = spacy.load('en', disable=['parser', 'ner'])\n",
        "data_lemmatized = lemmatization(data_words_bigrams, allowed_postags=['NOUN', 'ADJ', 'VERB', 'ADV'])\n",
        "print(data_lemmatized[:1])\n",
        "id2word = corpora.Dictionary(data_lemmatized)\n",
        "texts = data_lemmatized\n",
        "corpus = [id2word.doc2bow(text) for text in texts]\n",
        "print(corpus[:1])\n",
        "lda_model = gensim.models.ldamodel.LdaModel(corpus=corpus,\n",
        "                                           id2word=id2word,\n",
        "                                           num_topics=20, \n",
        "                                           random_state=100,\n",
        "                                           update_every=1,\n",
        "                                           chunksize=100,\n",
        "                                           passes=10,\n",
        "                                           alpha='auto',\n",
        "                                           per_word_topics=True)\n",
        "pprint(lda_model.print_topics())\n",
        "doc_lda = lda_model[corpus]"
      ],
      "execution_count": 4,
      "outputs": [
        {
          "output_type": "stream",
          "text": [
            "[['data', 'streams', 'algorithms', 'and', 'applications']]\n",
            "[[]]\n",
            "[[]]\n",
            "[(0,\n",
            "  '0.061*\"datum\" + 0.061*\"selection\" + 0.031*\"seek\" + 0.031*\"rational\" + '\n",
            "  '0.031*\"income\" + 0.031*\"happiness\" + 0.031*\"aspiration\" + 0.031*\"science\" + '\n",
            "  '0.031*\"role\" + 0.031*\"medium\"'),\n",
            " (1,\n",
            "  '0.111*\"datum\" + 0.067*\"science\" + 0.023*\"curriculum\" + 0.023*\"technique\" + '\n",
            "  '0.023*\"program\" + 0.023*\"parallelism\" + 0.023*\"non\" + 0.023*\"validation\" + '\n",
            "  '0.023*\"selection\" + 0.023*\"natural\"'),\n",
            " (2,\n",
            "  '0.033*\"self\" + 0.033*\"scientific\" + 0.033*\"motivational\" + '\n",
            "  '0.033*\"performance\" + 0.033*\"regulate\" + 0.033*\"academic\" + '\n",
            "  '0.033*\"identifier\" + 0.033*\"object\" + 0.033*\"classroom\" + 0.033*\"publish\"'),\n",
            " (3,\n",
            "  '0.029*\"special\" + 0.029*\"editorial\" + 0.029*\"model\" + 0.029*\"software\" + '\n",
            "  '0.029*\"prediction\" + 0.029*\"defect\" + 0.029*\"imbalanced\" + 0.029*\"issue\" + '\n",
            "  '0.029*\"set\" + 0.029*\"inspire\"'),\n",
            " (4,\n",
            "  '0.044*\"geometry\" + 0.044*\"herd\" + 0.044*\"selfish\" + 0.044*\"version\" + '\n",
            "  '0.044*\"kit\" + 0.044*\"computation\" + 0.044*\"matrix\" + 0.044*\"basic\" + '\n",
            "  '0.044*\"sparse\" + 0.002*\"family\"'),\n",
            " (5,\n",
            "  '0.112*\"science\" + 0.111*\"datum\" + 0.045*\"foundation\" + 0.023*\"standard\" + '\n",
            "  '0.023*\"automation\" + 0.023*\"cognitive\" + 0.023*\"data\" + 0.023*\"develop\" + '\n",
            "  '0.023*\"perspective\" + 0.023*\"agricultural\"'),\n",
            " (6,\n",
            "  '0.083*\"peer\" + 0.083*\"science\" + 0.063*\"datum\" + 0.042*\"writing\" + '\n",
            "  '0.042*\"review\" + 0.022*\"rough\" + 0.022*\"set\" + 0.022*\"class\" + '\n",
            "  '0.022*\"requirement\" + 0.022*\"replication\"'),\n",
            " (7,\n",
            "  '0.029*\"version\" + 0.029*\"health\" + 0.029*\"dataset\" + 0.029*\"psychological\" '\n",
            "  '+ 0.029*\"perspective\" + 0.029*\"science\" + 0.029*\"illusion\" + '\n",
            "  '0.029*\"selection\" + 0.029*\"scale\" + 0.029*\"model\"'),\n",
            " (8,\n",
            "  '0.046*\"datum\" + 0.023*\"computational\" + 0.023*\"methodology\" + '\n",
            "  '0.023*\"transfer\" + 0.023*\"decision\" + 0.023*\"making\" + 0.023*\"thresholde\" + '\n",
            "  '0.023*\"detection\" + 0.023*\"introductory\" + 0.023*\"course\"'),\n",
            " (9,\n",
            "  '0.088*\"science\" + 0.088*\"datum\" + 0.030*\"priority\" + 0.030*\"start\" + '\n",
            "  '0.030*\"right\" + 0.030*\"perspective\" + 0.030*\"software\" + 0.030*\"let\" + '\n",
            "  '0.030*\"gender\" + 0.030*\"diversity\"'),\n",
            " (10,\n",
            "  '0.067*\"people\" + 0.045*\"model\" + 0.023*\"investment\" + 0.023*\"functional\" + '\n",
            "  '0.023*\"direct\" + 0.023*\"foreign\" + 0.023*\"empirical\" + 0.023*\"viewpoint\" + '\n",
            "  '0.023*\"dichotomy\" + 0.023*\"datum\"'),\n",
            " (11,\n",
            "  '0.112*\"datum\" + 0.098*\"science\" + 0.043*\"statistic\" + 0.029*\"insight\" + '\n",
            "  '0.015*\"backbone\" + 0.015*\"support\" + 0.015*\"precursor\" + 0.015*\"course\" + '\n",
            "  '0.015*\"noise\" + 0.015*\"modern\"'),\n",
            " (12,\n",
            "  '0.057*\"science\" + 0.057*\"datum\" + 0.029*\"stochastic\" + 0.029*\"laboratory\" + '\n",
            "  '0.029*\"business\" + 0.029*\"optimization\" + 0.029*\"editor\" + 0.029*\"comment\" '\n",
            "  '+ 0.029*\"okcupid\" + 0.029*\"global\"'),\n",
            " (13,\n",
            "  '0.048*\"process\" + 0.048*\"social\" + 0.048*\"analysis\" + 0.048*\"maintain\" + '\n",
            "  '0.048*\"interval\" + 0.048*\"temporal\" + 0.048*\"knowledge\" + 0.002*\"course\" + '\n",
            "  '0.002*\"introductory\" + 0.002*\"probe\"'),\n",
            " (14,\n",
            "  '0.044*\"expression\" + 0.044*\"technology\" + 0.022*\"degradation\" + '\n",
            "  '0.022*\"system\" + 0.022*\"performance\" + 0.022*\"science\" + 0.022*\"lifetime\" + '\n",
            "  '0.022*\"investigate\" + 0.022*\"indexing\" + 0.022*\"sampling\"'),\n",
            " (15,\n",
            "  '0.149*\"science\" + 0.105*\"datum\" + 0.031*\"new\" + 0.016*\"visual\" + '\n",
            "  '0.016*\"big\" + 0.016*\"medium\" + 0.016*\"introduction\" + 0.016*\"drive\" + '\n",
            "  '0.016*\"incomplete\" + 0.016*\"imputation\"'),\n",
            " (16,\n",
            "  '0.003*\"application\" + 0.003*\"various\" + 0.003*\"probe\" + 0.003*\"inspire\" + '\n",
            "  '0.003*\"family\" + 0.003*\"support\" + 0.003*\"optimisation\" + 0.003*\"interface\" '\n",
            "  '+ 0.003*\"course\" + 0.003*\"study\"'),\n",
            " (17,\n",
            "  '0.080*\"network\" + 0.041*\"monitor\" + 0.041*\"volcano\" + 0.041*\"yield\" + '\n",
            "  '0.041*\"reveal\" + 0.041*\"sensor\" + 0.041*\"structure\" + 0.041*\"random\" + '\n",
            "  '0.041*\"community\" + 0.041*\"complex\"'),\n",
            " (18,\n",
            "  '0.039*\"membership\" + 0.039*\"mining\" + 0.039*\"formation\" + 0.039*\"evolution\" '\n",
            "  '+ 0.039*\"network\" + 0.039*\"large\" + 0.039*\"growth\" + 0.039*\"social\" + '\n",
            "  '0.039*\"knowledge\" + 0.039*\"database\"'),\n",
            " (19,\n",
            "  '0.071*\"study\" + 0.037*\"new\" + 0.037*\"implementation\" + 0.037*\"qualitative\" '\n",
            "  '+ 0.037*\"researcher\" + 0.037*\"methodology\" + 0.037*\"design\" + '\n",
            "  '0.037*\"approach\" + 0.037*\"novice\" + 0.037*\"life\"')]\n"
          ],
          "name": "stdout"
        }
      ]
    },
    {
      "cell_type": "markdown",
      "metadata": {
        "id": "2Vdp_NioxcC_"
      },
      "source": [
        "## (2) (8 points) Generate K topics by using LSA, the number of topics K should be decided by the coherence score, then summarize what are the topics. You may refer the code here:\n",
        "\n",
        "https://www.datacamp.com/community/tutorials/discovering-hidden-topics-python"
      ]
    },
    {
      "cell_type": "code",
      "metadata": {
        "id": "RNyP3ENVxcDB"
      },
      "source": [
        "# Write your code here\n",
        "import os.path\n",
        "from gensim import corpora\n",
        "from gensim.models import LsiModel\n",
        "from nltk.tokenize import RegexpTokenizer\n",
        "from nltk.corpus import stopwords\n",
        "from nltk.stem.porter import PorterStemmer\n",
        "from gensim.models.coherencemodel import CoherenceModel\n",
        "import matplotlib.pyplot as plt\n",
        "\n"
      ],
      "execution_count": 13,
      "outputs": []
    },
    {
      "cell_type": "code",
      "metadata": {
        "id": "3tGveU_2yYfy"
      },
      "source": [
        "def preprocess_data(docu_set):\n",
        "    \"\"\"\n",
        "    Input  : docuemnt list\n",
        "    Purpose: preprocess text (tokenize, removing stopwords, and stemming)\n",
        "    Output : preprocessed text\n",
        "    \"\"\"\n",
        "        tokenizer = RegexpTokenizer(r'\\w+')\n",
        "    en_stop = set(stopwords.words('english'))\n",
        "    p_stemmer = PorterStemmer()\n",
        "    texts = []\n",
        "    for i in docu_set:\n",
        "        raw = i.lower()\n",
        "        tokens = tokenizer.tokenize(raw)\n",
        "        stopped_tokens = [i for i in tokens if not i in en_stop]\n",
        "        stemmed_tokens = [p_stemmer.stem(i) for i in stopped_tokens]\n",
        "        texts.append(stemmed_tokens)\n",
        "    return texts\n",
        "def prepare_corpus(doc_clean):\n",
        "    \"\"\"\n",
        "    Input  : clean document\n",
        "    Purpose: create term dictionary of our courpus and Converting list of documents (corpus) into Document Term Matrix\n",
        "    Output : term dictionary and Document Term Matrix\n",
        "    \"\"\"\n",
        "    dictionary = corpora.Dictionary(doc_clean)\n",
        "    doc_term_matrix = [dictionary.doc2bow(doc) for doc in doc_clean]\n",
        "    return dictionary,doc_term_matrix\n",
        "def create_gensim_lsa_model(doc_clean,number_of_topics,words):\n",
        "    \"\"\"\n",
        "    Input  : clean document, number of topics and number of words associated with each topic\n",
        "    Purpose: create LSA model using gensim\n",
        "    Output : return LSA model\n",
        "    \"\"\"\n",
        "    dictionary,doc_term_matrix=prepare_corpus(doc_clean)\n",
        "    lsamodel = LsiModel(doc_term_matrix, num_topics=number_of_topics, id2word = dictionary)  # train model\n",
        "    print(lsamodel.print_topics(num_topics=number_of_topics, num_words=words))\n",
        "    return lsamodel\n",
        "def compute_coherence_values(dictionary, doc_term_matrix, doc_clean, stop, start=2, step=3):\n",
        "    \"\"\"\n",
        "    Input   : dictionary : Gensim dictionary\n",
        "              corpus : Gensim corpus\n",
        "              texts : List of input texts\n",
        "              stop : Max num of topics\n",
        "    purpose : Compute c_v coherence for various number of topics\n",
        "    Output  : model_list : List of LSA topic models\n",
        "              coherence_values : Coherence values corresponding to the LDA model with respective number of topics\n",
        "    \"\"\"\n",
        "    coherence_values = []\n",
        "    model_list = []\n",
        "    for num_topics in range(start, stop, step):\n",
        "      model = LsiModel(doc_term_matrix, num_topics, id2word = dictionary)  # train model\n",
        "      model_list.append(model)\n",
        "      coherencemodel = CoherenceModel(model=model, texts=doc_clean, dictionary=dictionary, coherence='c_v')\n",
        "      coherence_values.append(coherencemodel.get_coherence())\n",
        "    return model_list, coherence_values\n",
        "def graph(doc_clean,start, stop, step):\n",
        "    dictionary,doc_term_matrix=prepare_corpus(doc_clean)\n",
        "    model_list, coherence_values = compute_coherence_values(dictionary, doc_term_matrix,doc_clean,stop, start, step)\n",
        "    x = range(start, stop, step)\n",
        "    plt.plot(x, coherence_values)\n",
        "    plt.xlabel(\"Number of Topics\")\n",
        "    plt.ylabel(\"Coherence score\")\n",
        "    plt.legend((\"coherence_values\"), loc='best')\n",
        "    plt.show()\n",
        "  "
      ],
      "execution_count": 12,
      "outputs": []
    },
    {
      "cell_type": "code",
      "metadata": {
        "id": "jZpVjVP9yucr",
        "outputId": "f7b1d011-47aa-43da-df4f-df0c233f4e48",
        "colab": {
          "base_uri": "https://localhost:8080/",
          "height": 279
        }
      },
      "source": [
        "start,stop,step=2,12,1\n",
        "clean_text=preprocess_data(titles)\n",
        "graph(clean_text,start,stop,step)"
      ],
      "execution_count": 9,
      "outputs": [
        {
          "output_type": "display_data",
          "data": {
            "image/png": "[encoded data removed]",
            "text/plain": [
              "<Figure size 432x288 with 1 Axes>"
            ]
          },
          "metadata": {
            "tags": [],
            "needs_background": "light"
          }
        }
      ]
    },
    {
      "cell_type": "code",
      "metadata": {
        "id": "v1nUjbMbyziP",
        "outputId": "1497e7f1-8d57-4102-c5fd-28abcb746060",
        "colab": {
          "base_uri": "https://localhost:8080/",
          "height": 54
        }
      },
      "source": [
        "number_of_topics=2\n",
        "words=10\n",
        "clean_text=preprocess_data(titles)\n",
        "model=create_gensim_lsa_model(clean_text,number_of_topics,words)"
      ],
      "execution_count": 10,
      "outputs": [
        {
          "output_type": "stream",
          "text": [
            "[(0, '0.763*\"data\" + 0.587*\"scienc\" + 0.077*\"big\" + 0.061*\"comput\" + 0.057*\"1\" + 0.056*\"statist\" + 0.051*\"new\" + 0.047*\"educ\" + 0.045*\"peer\" + 0.044*\"earth\"'), (1, '0.446*\"peer\" + 0.372*\"earth\" + 0.354*\"write\" + 0.354*\"review\" + 0.221*\"1\" + -0.221*\"data\" + 0.213*\"educ\" + 0.192*\"larg\" + 0.177*\"gener\" + 0.177*\"oceanographi\"')]\n"
          ],
          "name": "stdout"
        }
      ]
    },
    {
      "cell_type": "markdown",
      "metadata": {
        "id": "Z3z6QSYCxcDN"
      },
      "source": [
        "## (3) (4 points) Compare the results generated by the two topic modeling algorithms, which one is better? You should explain the reasons in details."
      ]
    },
    {
      "cell_type": "code",
      "metadata": {
        "id": "Kh59i_IlxcDP"
      },
      "source": [
        "# Write your answer here (no code needed for this question)\n",
        "LDA has 19 point models while LSA has 2 theme models, however sack of words in both the models are same there are less measurements in LSA while contrasted with LDA.  LSA has just 2 subject models it is quicker than LDA. In spite of the fact that the yield of both the models are comparable both have the preprocessing steps to lemmatize the sentences and LDA is executed with LDA followoing diricilet strategy and LSA is probabilistic way."
      ],
      "execution_count": null,
      "outputs": []
    }
  ]
}