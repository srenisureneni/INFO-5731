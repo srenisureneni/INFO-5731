{
  "nbformat": 4,
  "nbformat_minor": 0,
  "metadata": {
    "colab": {
      "name": "In_class_exercise_01.ipynb",
      "provenance": [],
      "collapsed_sections": []
    },
    "kernelspec": {
      "display_name": "Python 3",
      "language": "python",
      "name": "python3"
    },
    "language_info": {
      "codemirror_mode": {
        "name": "ipython",
        "version": 3
      },
      "file_extension": ".py",
      "mimetype": "text/x-python",
      "name": "python",
      "nbconvert_exporter": "python",
      "pygments_lexer": "ipython3",
      "version": "3.7.3"
    }
  },
  "cells": [
    {
      "cell_type": "markdown",
      "metadata": {
        "colab_type": "text",
        "id": "view-in-github"
      },
      "source": [
        "<a href=\"https://colab.research.google.com/github/unt-iialab/INFO5731_Spring2020/blob/master/In_class_exercise/In_class_exercise_01.ipynb\" target=\"_parent\"><img src=\"https://colab.research.google.com/assets/colab-badge.svg\" alt=\"Open In Colab\"/></a>"
      ]
    },
    {
      "cell_type": "markdown",
      "metadata": {
        "colab_type": "text",
        "id": "DymRJbxDBCnf"
      },
      "source": [
        "# **The first In-class-exercise (9/2/2020, 20 points in total)**"
      ]
    },
    {
      "cell_type": "markdown",
      "metadata": {
        "colab_type": "text",
        "id": "03jb4GZsBkBS"
      },
      "source": [
        "(1) Write a Python program to calculate the length of a string. (2 points)"
      ]
    },
    {
      "cell_type": "code",
      "metadata": {
        "colab_type": "code",
        "id": "YaGLbSHHB8Ej",
        "colab": {
          "base_uri": "https://localhost:8080/",
          "height": 51
        },
        "outputId": "8fa64d83-c77a-4731-b7ef-f2a094edb273"
      },
      "source": [
        "#to calculate length of string\n",
        "str = input(\"Enter string: \")\n",
        "total = 0\n",
        "for s in str:\n",
        "      total = total+1\n",
        "print(\"Length of the string is:\", total)\n"
      ],
      "execution_count": null,
      "outputs": [
        {
          "output_type": "stream",
          "text": [
            "Enter string: computational methods\n",
            "Length of the string is: 21\n"
          ],
          "name": "stdout"
        }
      ]
    },
    {
      "cell_type": "markdown",
      "metadata": {
        "colab_type": "text",
        "id": "jJDe71iLB616"
      },
      "source": [
        "(2) Write a Python program to count the number of characters in a string. (2 points)\n",
        "\n",
        "Sample String : 'google.com‘, \n",
        "\n",
        "Expected Result : {'o': 3, 'g': 2, '.': 1, 'e': 1, 'l': 1, 'm': 1, 'c': 1}"
      ]
    },
    {
      "cell_type": "code",
      "metadata": {
        "colab_type": "code",
        "id": "MtKskTzbCLaU",
        "colab": {
          "base_uri": "https://localhost:8080/",
          "height": 51
        },
        "outputId": "c5545872-c344-4754-bdf2-6553f8265375"
      },
      "source": [
        "# write your answer here\n",
        "str = input(\"Enter string: \")\n",
        "def char_frequency(str):\n",
        "    dict = {}\n",
        "    for n in str:\n",
        "        keys = dict.keys()\n",
        "        if n in keys:\n",
        "            dict[n] += 1\n",
        "        else:\n",
        "            dict[n] = 1\n",
        "    return dict\n",
        "print(\"the count of number of characters in a string:\", char_frequency(str))\n",
        "\n"
      ],
      "execution_count": null,
      "outputs": [
        {
          "output_type": "stream",
          "text": [
            "Enter string: moon\n",
            "the count of number of characters in a string: {'m': 1, 'o': 2, 'n': 1}\n"
          ],
          "name": "stdout"
        }
      ]
    },
    {
      "cell_type": "markdown",
      "metadata": {
        "colab_type": "text",
        "id": "55W9AMdXCSpV"
      },
      "source": [
        "(3) Write a Python program to sum all the items in a list. (2 points)"
      ]
    },
    {
      "cell_type": "code",
      "metadata": {
        "colab_type": "code",
        "id": "I57NXsauCec2",
        "colab": {
          "base_uri": "https://localhost:8080/",
          "height": 51
        },
        "outputId": "41fd4b6b-252c-4157-dbc5-6cdbe548c575"
      },
      "source": [
        "# write your answer here\n",
        "n= input(\"enter numbers:\")\n",
        "def sum(numbers):\n",
        "    total = 0\n",
        "    for x in numbers.split(\",\"):\n",
        "        total += int(x)\n",
        "    return total\n",
        "print(sum(n))"
      ],
      "execution_count": null,
      "outputs": [
        {
          "output_type": "stream",
          "text": [
            "enter numbers:1,2,3,4\n",
            "10\n"
          ],
          "name": "stdout"
        }
      ]
    },
    {
      "cell_type": "markdown",
      "metadata": {
        "colab_type": "text",
        "id": "4ulBZ6yhCi9F"
      },
      "source": [
        "(4) Write a Python program to get a string from a given string where all occurrences of its first char have been changed to '\\$', except the first char itself. (2 points)\n",
        "\n",
        "Sample String : 'restart‘, \n",
        "\n",
        "Expected Result : 'resta\\$t'"
      ]
    },
    {
      "cell_type": "code",
      "metadata": {
        "colab_type": "code",
        "id": "Fj0XhwbBCw2o",
        "colab": {
          "base_uri": "https://localhost:8080/",
          "height": 51
        },
        "outputId": "cf2b989a-f7f7-4eb4-c6e9-c78c06fa6f39"
      },
      "source": [
        "# write your answer here\n",
        "str = input(\"enter string:\")\n",
        "def change_char(str):\n",
        "  char = str[0]\n",
        "  str = str.replace(char, '$')\n",
        "  str = char + str[1:]\n",
        "\n",
        "  return str\n",
        "\n",
        "print(\"the replaced string:\", change_char(str))\n"
      ],
      "execution_count": null,
      "outputs": [
        {
          "output_type": "stream",
          "text": [
            "enter string:srenisureneni\n",
            "the replaced string: sreni$ureneni\n"
          ],
          "name": "stdout"
        }
      ]
    },
    {
      "cell_type": "markdown",
      "metadata": {
        "colab_type": "text",
        "id": "_bIP7s1MCzue"
      },
      "source": [
        "(5) Write a program with python which could accept two parameter a and b to calculate and output the result of S, where \n",
        "\n",
        "$\\ S=3.14*(1+a/b)^3$ (3 points)\n",
        "\n"
      ]
    },
    {
      "cell_type": "code",
      "metadata": {
        "colab_type": "code",
        "id": "w79QilHXD3Mg",
        "colab": {
          "base_uri": "https://localhost:8080/",
          "height": 68
        },
        "outputId": "bbd1f211-2a14-48c5-fb65-828aa859449d"
      },
      "source": [
        "# write your answer here\n",
        "pi = 3.14\n",
        "a = int(input(\"Enter a:\"));\n",
        "b = int(input(\"Enter b:\"));\n",
        "S = pi * pow((1 + a/b), 3)\n",
        "print(S)\n"
      ],
      "execution_count": null,
      "outputs": [
        {
          "output_type": "stream",
          "text": [
            "Enter a:1\n",
            "Enter b:2\n",
            "10.5975\n"
          ],
          "name": "stdout"
        }
      ]
    },
    {
      "cell_type": "markdown",
      "metadata": {
        "colab_type": "text",
        "id": "xCa2bK9aD4Q3"
      },
      "source": [
        "(6) Write a Python program to concatenate following dictionaries to create a new one. (3 points)\n",
        "\n",
        "Sample Dictionary : dic1={1:10, 2:20}, dic2={3:30, 4:40}, dic3={5:50,6:60}, \n",
        "\n",
        "Expected Result : {1: 10, 2: 20, 3: 30, 4: 40, 5: 50, 6: 60}\n"
      ]
    },
    {
      "cell_type": "code",
      "metadata": {
        "colab_type": "code",
        "id": "_z4aLqAbEET1",
        "colab": {
          "base_uri": "https://localhost:8080/",
          "height": 34
        },
        "outputId": "232262b5-31c1-4869-d06a-021c10e90076"
      },
      "source": [
        "# write your answer here\n",
        "dicA={2:4, 4:8}\n",
        "dicB={8:16, 16:32}\n",
        "dicC={32:64, 64:128}\n",
        "dicD = {}\n",
        "for d in (dicA, dicB, dicC): dicD.update(d)\n",
        "print(dicD)\n"
      ],
      "execution_count": null,
      "outputs": [
        {
          "output_type": "stream",
          "text": [
            "{2: 4, 4: 8, 8: 16, 16: 32, 32: 64, 64: 128}\n"
          ],
          "name": "stdout"
        }
      ]
    },
    {
      "cell_type": "markdown",
      "metadata": {
        "colab_type": "text",
        "id": "0v48Vqa7FrQh"
      },
      "source": [
        "(7) Write a Python program to check whether an element exists within a tuple. (3 points)"
      ]
    },
    {
      "cell_type": "code",
      "metadata": {
        "colab_type": "code",
        "id": "7WEmgq-DF2P1",
        "colab": {
          "base_uri": "https://localhost:8080/",
          "height": 34
        },
        "outputId": "e408294d-0ce0-4d2e-9635-330cbbf4be81"
      },
      "source": [
        "# write your answer here\n",
        "#creating a tuple\n",
        "tup =('python','R','MySQL')\n",
        "#checking if tuple exists\n",
        "print(\"Tableau\" in tup)"
      ],
      "execution_count": null,
      "outputs": [
        {
          "output_type": "stream",
          "text": [
            "False\n"
          ],
          "name": "stdout"
        }
      ]
    },
    {
      "cell_type": "markdown",
      "metadata": {
        "colab_type": "text",
        "id": "vD5PYLMuGga_"
      },
      "source": [
        "(8) Write a Python program to find maximum and the minimum value in a set. (3 points)"
      ]
    },
    {
      "cell_type": "code",
      "metadata": {
        "colab_type": "code",
        "id": "t0D5kdJUGjjw",
        "colab": {}
      },
      "source": [
        "# write your answer here\n",
        "values = input(\"enter the elements for set:\")\n",
        "lists = values.split(\" \")\n",
        "sets = set(lists) \n",
        "print(max(sets))\n",
        "print(min(sets))\n",
        "\n",
        "\n"
      ],
      "execution_count": null,
      "outputs": []
    },
    {
      "cell_type": "markdown",
      "metadata": {
        "colab_type": "text",
        "id": "uHkd-y5VhVWC"
      },
      "source": [
        "(9) Write a Python program to randomly divide the students in this class into five groups for term projects, each group should have at least 3 students but no more than 5 students (including 5). Here is the students list: (3 points for extra)\n",
        "\n",
        "studnet_list = ['vmb0067','pc0353','snd0097','yye0005','sg0940','bk0301','rak0120','rrk0058','spk0057','vl0135','nm0547','pn0159',\n",
        "                'msp0174','dd0420','ds0761','rs0850','ss1995','at0739','at0768','mv0299','tv0119','dy0091']"
      ]
    },
    {
      "cell_type": "code",
      "metadata": {
        "colab_type": "code",
        "id": "3iGbmcOBhTwy",
        "colab": {
          "base_uri": "https://localhost:8080/",
          "height": 54
        },
        "outputId": "0a170aa9-c48f-4928-c695-041a9eade4cc"
      },
      "source": [
        "# write your answer here\n",
        "import random\n",
        "studnet_list = ['vmb0067','pc0353','snd0097','yye0005','sg0940','bk0301','rak0120','rrk0058','spk0057','vl0135','nm0547','pn0159', 'msp0174','dd0420','ds0761','rs0850','ss1995','at0739','at0768','mv0299','tv0119','dy0091']\n",
        "def listOf(l):\n",
        "  c = 0;\n",
        "  for i in l:\n",
        "    c +=1;\n",
        "  return c\n",
        "#print(len(list(studnet_list)))\n",
        "groups = [];\n",
        "while listOf(studnet_list)>=5:\n",
        "    random.shuffle(studnet_list)\n",
        "    groups.append(studnet_list[:3])\n",
        "    #print(studnet_list)\n",
        "    studnet_list.pop(0)\n",
        "    studnet_list.pop(0)\n",
        "    studnet_list.pop(0)\n",
        "groups.append(studnet_list)\n",
        "print(groups)"
      ],
      "execution_count": null,
      "outputs": [
        {
          "output_type": "stream",
          "text": [
            "[['rs0850', 'yye0005', 'nm0547'], ['at0739', 'ds0761', 'rrk0058'], ['msp0174', 'at0768', 'dy0091'], ['pn0159', 'vl0135', 'pc0353'], ['dd0420', 'vmb0067', 'bk0301'], ['sg0940', 'snd0097', 'spk0057'], ['tv0119', 'mv0299', 'ss1995', 'rak0120']]\n"
          ],
          "name": "stdout"
        }
      ]
    }
  ]
}